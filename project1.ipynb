{
 "cells": [
  {
   "cell_type": "code",
   "execution_count": 13,
   "id": "5eb3c480-d152-49ab-9415-c7d245ef7758",
   "metadata": {},
   "outputs": [],
   "source": [
    "import pandas as pd\n",
    "import re\n",
    "import seaborn as sns"
   ]
  },
  {
   "cell_type": "markdown",
   "id": "bd00c2e6-79e3-4e8f-82f9-b911839893f3",
   "metadata": {},
   "source": [
    "#### Data Read-in"
   ]
  },
  {
   "cell_type": "code",
   "execution_count": 4,
   "id": "c3447666-e14b-41e1-90f6-ab8b1ac6b015",
   "metadata": {},
   "outputs": [],
   "source": [
    "inputfile_dir = r\"C:\\Users\\ZHAN\\Documents\\Udacity\\DS\\project1\"\n",
    "df_calendar = pd.read_csv(inputfile_dir + \"\\\\calendar.csv\")\n",
    "df_reviews = pd.read_csv(inputfile_dir + \"\\\\reviews.csv\")\n",
    "df_listings = pd.read_csv(inputfile_dir + \"\\\\listings.csv\")\n",
    "###########################################################"
   ]
  },
  {
   "cell_type": "markdown",
   "id": "b1c7b676-fa1c-4f56-8cd7-48984249654a",
   "metadata": {},
   "source": [
    "#### Q1: The current avaliable listings by month as of 09/2016"
   ]
  },
  {
   "cell_type": "code",
   "execution_count": 6,
   "id": "44521c1c-d4ce-4813-853c-acce0a2464bd",
   "metadata": {},
   "outputs": [
    {
     "data": {
      "text/plain": [
       "year  month\n",
       "2016  09       24401\n",
       "      10       46345\n",
       "      11       58888\n",
       "      12       60997\n",
       "2017  01       63181\n",
       "      02       56810\n",
       "      03       55181\n",
       "      04       51382\n",
       "      05       53600\n",
       "      06       52731\n",
       "      07       54963\n",
       "      08       55561\n",
       "      09        8997\n",
       "Name: listing_id, dtype: int64"
      ]
     },
     "execution_count": 6,
     "metadata": {},
     "output_type": "execute_result"
    }
   ],
   "source": [
    "def _add_month_year(df):\n",
    "    df['month'] = df['date'].str[5:7]\n",
    "    df['year'] = df['date'].str[:4]\n",
    "    return df\n",
    "###################################\n",
    "def listings_bymonth(df):\n",
    "    df = _add_month_year(df)\n",
    "###################################################\n",
    "    # year_13_17 = [\"2017\", \"2016\", \"2015\", \"2014\", \"2013\"]\n",
    "###################################################\n",
    "    # return df[\"year\"]\n",
    "    return df[df[\"available\"] == \"t\"].groupby([\"year\", \"month\"])[\"listing_id\"].count()\n",
    "################################\n",
    "listings_bymonth(df_calendar)"
   ]
  },
  {
   "cell_type": "markdown",
   "id": "4e6184f6-5b00-4252-828f-c9d34c85d18b",
   "metadata": {},
   "source": [
    "#### Q2: What about the trend of reviewers by month and year (2013 - 2016)\n",
    " - Year total increases constantly.\n",
    " - Reviewer number peaks at 9, 10, 11 every year; This could be a great time for any marketing interventions. "
   ]
  },
  {
   "cell_type": "code",
   "execution_count": 24,
   "id": "0868aa4f-bc39-46c2-93f2-e4090ffaeb96",
   "metadata": {},
   "outputs": [
    {
     "data": {
      "image/png": "[encoded data removed]",
      "text/plain": [
       "<Figure size 432x288 with 1 Axes>"
      ]
     },
     "metadata": {
      "needs_background": "light"
     },
     "output_type": "display_data"
    }
   ],
   "source": [
    "###################################\n",
    "def find_n_visitor_bymonth(df):\n",
    "    df = _add_month_year(df)\n",
    "###################################################\n",
    "    year_13_17 = [\"2017\", \"2016\", \"2015\", \"2014\", \"2013\"]\n",
    "###################################################\n",
    "    return df[df[\"year\"].isin(year_13_17)].groupby([\"year\", \"month\"])[\"reviewer_id\"].count()\n",
    "# we can tell that volumes pick up from May every year and reach the peak at Oct.\n",
    "find_n_visitor_bymonth(df_reviews)\n",
    "def plot_nvisitor_bymonth(df):\n",
    "    df = find_n_visitor_bymonth(df).reset_index()\n",
    "    # return df\n",
    "    ax = sns.lineplot(x='month', y='reviewer_id', hue='year', data = df)\n",
    "    ax.set(ylabel='N Reviewers')\n",
    "#################################################\n",
    "plot_nvisitor_bymonth(df_reviews)"
   ]
  },
  {
   "cell_type": "markdown",
   "id": "80d8a4b5-9b62-4e55-b994-01c0266f4795",
   "metadata": {},
   "source": [
    "#### Q3: If one wants to rent entire apt/townhose/condo, what are the top 10 neighbourhood providing the most such units?"
   ]
  },
  {
   "cell_type": "code",
   "execution_count": 27,
   "id": "0da002ec-db93-4a75-8411-70ffb2f272f5",
   "metadata": {},
   "outputs": [
    {
     "data": {
      "text/html": [
       "<div>\n",
       "<style scoped>\n",
       "    .dataframe tbody tr th:only-of-type {\n",
       "        vertical-align: middle;\n",
       "    }\n",
       "\n",
       "    .dataframe tbody tr th {\n",
       "        vertical-align: top;\n",
       "    }\n",
       "\n",
       "    .dataframe thead th {\n",
       "        text-align: right;\n",
       "    }\n",
       "</style>\n",
       "<table border=\"1\" class=\"dataframe\">\n",
       "  <thead>\n",
       "    <tr style=\"text-align: right;\">\n",
       "      <th></th>\n",
       "      <th></th>\n",
       "      <th></th>\n",
       "      <th></th>\n",
       "      <th>id</th>\n",
       "    </tr>\n",
       "    <tr>\n",
       "      <th>neighbourhood</th>\n",
       "      <th>zipcode</th>\n",
       "      <th>property_type</th>\n",
       "      <th>bedrooms</th>\n",
       "      <th></th>\n",
       "    </tr>\n",
       "  </thead>\n",
       "  <tbody>\n",
       "    <tr>\n",
       "      <th>Fenway/Kenmore</th>\n",
       "      <th>02215</th>\n",
       "      <th>Apartment</th>\n",
       "      <th>1.0</th>\n",
       "      <td>77</td>\n",
       "    </tr>\n",
       "    <tr>\n",
       "      <th>South End</th>\n",
       "      <th>02118</th>\n",
       "      <th>Apartment</th>\n",
       "      <th>1.0</th>\n",
       "      <td>61</td>\n",
       "    </tr>\n",
       "    <tr>\n",
       "      <th>Fenway/Kenmore</th>\n",
       "      <th>02215</th>\n",
       "      <th>Apartment</th>\n",
       "      <th>2.0</th>\n",
       "      <td>59</td>\n",
       "    </tr>\n",
       "    <tr>\n",
       "      <th rowspan=\"2\" valign=\"top\">Back Bay</th>\n",
       "      <th rowspan=\"2\" valign=\"top\">02116</th>\n",
       "      <th rowspan=\"2\" valign=\"top\">Apartment</th>\n",
       "      <th>1.0</th>\n",
       "      <td>57</td>\n",
       "    </tr>\n",
       "    <tr>\n",
       "      <th>2.0</th>\n",
       "      <td>52</td>\n",
       "    </tr>\n",
       "    <tr>\n",
       "      <th>Beacon Hill</th>\n",
       "      <th>02114</th>\n",
       "      <th>Apartment</th>\n",
       "      <th>1.0</th>\n",
       "      <td>42</td>\n",
       "    </tr>\n",
       "    <tr>\n",
       "      <th>Jamaica Plain</th>\n",
       "      <th>02130</th>\n",
       "      <th>Apartment</th>\n",
       "      <th>2.0</th>\n",
       "      <td>41</td>\n",
       "    </tr>\n",
       "    <tr>\n",
       "      <th>Back Bay</th>\n",
       "      <th>02116</th>\n",
       "      <th>Apartment</th>\n",
       "      <th>0.0</th>\n",
       "      <td>37</td>\n",
       "    </tr>\n",
       "    <tr>\n",
       "      <th>South End</th>\n",
       "      <th>02118</th>\n",
       "      <th>Apartment</th>\n",
       "      <th>2.0</th>\n",
       "      <td>35</td>\n",
       "    </tr>\n",
       "    <tr>\n",
       "      <th>North End</th>\n",
       "      <th>02113</th>\n",
       "      <th>Apartment</th>\n",
       "      <th>1.0</th>\n",
       "      <td>34</td>\n",
       "    </tr>\n",
       "  </tbody>\n",
       "</table>\n",
       "</div>"
      ],
      "text/plain": [
       "                                               id\n",
       "neighbourhood  zipcode property_type bedrooms    \n",
       "Fenway/Kenmore 02215   Apartment     1.0       77\n",
       "South End      02118   Apartment     1.0       61\n",
       "Fenway/Kenmore 02215   Apartment     2.0       59\n",
       "Back Bay       02116   Apartment     1.0       57\n",
       "                                     2.0       52\n",
       "Beacon Hill    02114   Apartment     1.0       42\n",
       "Jamaica Plain  02130   Apartment     2.0       41\n",
       "Back Bay       02116   Apartment     0.0       37\n",
       "South End      02118   Apartment     2.0       35\n",
       "North End      02113   Apartment     1.0       34"
      ]
     },
     "execution_count": 27,
     "metadata": {},
     "output_type": "execute_result"
    }
   ],
   "source": [
    "def top10_listed_rooms_neighbors(df, property_type = [\"Apartment\", \"Condominium\", \"Townhouse\"]):\n",
    "    ####################################################################\n",
    "    # df[\"street_short\"] = df[\"street\"].apply(lambda x: \"\".join(re.findall(\"(.+), MA\", x)))\n",
    "    grp_vars = ['neighbourhood', 'zipcode', 'property_type', \"bedrooms\"] # filter columns that are needed\n",
    "    df = df[df['property_type'].isin(property_type) & df['room_type'].str.contains(\"Entire\")] # filter apt/condo/townhouse\n",
    "    return df.groupby(grp_vars).agg({\"id\":\"count\"}).sort_values(\"id\", ascending = False)[:10] # find top 10\n",
    "#############################################\n",
    "top10_listed_rooms_neighbors(df_listings)"
   ]
  }
 ],
 "metadata": {
  "kernelspec": {
   "display_name": "Python 3 (ipykernel)",
   "language": "python",
   "name": "python3"
  },
  "language_info": {
   "codemirror_mode": {
    "name": "ipython",
    "version": 3
   },
   "file_extension": ".py",
   "mimetype": "text/x-python",
   "name": "python",
   "nbconvert_exporter": "python",
   "pygments_lexer": "ipython3",
   "version": "3.8.12"
  }
 },
 "nbformat": 4,
 "nbformat_minor": 5
}
